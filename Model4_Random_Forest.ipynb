{
 "cells": [
  {
   "cell_type": "code",
   "execution_count": 25,
   "id": "0abc2c58",
   "metadata": {},
   "outputs": [],
   "source": [
    "import pandas as pd\n",
    "from sklearn.ensemble import RandomForestRegressor\n",
    "from sklearn.metrics import mean_absolute_error\n",
    "from sklearn.model_selection import train_test_split\n",
    "import numpy as np\n",
    "import matplotlib.pyplot as plt\n",
    "from sklearn import tree"
   ]
  },
  {
   "cell_type": "code",
   "execution_count": 26,
   "id": "125ca850",
   "metadata": {},
   "outputs": [
    {
     "name": "stdout",
     "output_type": "stream",
     "text": [
      "     pH  PAM  HMTA    HQ    T\n",
      "0   8.0  1.0  0.30  0.20   85\n",
      "1   8.0  1.0  0.30  0.20  100\n",
      "2   8.0  1.0  0.30  0.20  110\n",
      "3   8.0  1.0  0.30  0.20  120\n",
      "4   8.5  1.0  0.30  0.20   85\n",
      "..  ...  ...   ...   ...  ...\n",
      "87  8.5  1.0  0.30  0.20  120\n",
      "88  8.5  1.0  0.40  0.30  120\n",
      "89  8.5  1.0  0.45  0.35  120\n",
      "90  8.5  1.0  0.50  0.40  120\n",
      "91  8.5  1.0  0.60  0.50  120\n",
      "\n",
      "[92 rows x 5 columns]\n",
      "0     4.941642\n",
      "1     4.276666\n",
      "2     2.708050\n",
      "3     2.302585\n",
      "4     5.010635\n",
      "        ...   \n",
      "87    2.296567\n",
      "88    1.704748\n",
      "89    1.602615\n",
      "90    1.599993\n",
      "91    1.597568\n",
      "Name: lnt, lab, Length: 92, dtype: float64\n"
     ]
    }
   ],
   "source": [
    "'pH'\n",
    "#This is for pH model\n",
    "datapH = pd.read_excel('Polymer_data.xlsx', sheet_name=0)\n",
    "\n",
    "varpH = ['pH','PAM','HMTA','HQ','T']\n",
    "X = datapH[varpH]\n",
    "y = datapH['lnt, lab']\n",
    "X2 = X[:78]\n",
    "y2 = y[:78]\n",
    "print(X)\n",
    "print(y)"
   ]
  },
  {
   "cell_type": "code",
   "execution_count": 27,
   "id": "848bfb7b",
   "metadata": {},
   "outputs": [],
   "source": [
    "train_X, test_X, train_y, test_y = train_test_split(X2, y2, random_state =0)"
   ]
  },
  {
   "cell_type": "code",
   "execution_count": 28,
   "id": "a74909bc",
   "metadata": {},
   "outputs": [
    {
     "data": {
      "text/plain": [
       "RandomForestRegressor(random_state=1)"
      ]
     },
     "execution_count": 28,
     "metadata": {},
     "output_type": "execute_result"
    }
   ],
   "source": [
    "rf_model = RandomForestRegressor(random_state = 1)\n",
    "rf_model.fit(train_X, train_y)"
   ]
  },
  {
   "cell_type": "code",
   "execution_count": 29,
   "id": "5a035dba",
   "metadata": {},
   "outputs": [
    {
     "name": "stdout",
     "output_type": "stream",
     "text": [
      "0.22628929377234397\n"
     ]
    }
   ],
   "source": [
    "pred_y = rf_model.predict(test_X)\n",
    "rf_model_mae = mean_absolute_error(test_y,pred_y)\n",
    "mean_y = np.mean(y)\n",
    "print(rf_model_mae)"
   ]
  },
  {
   "cell_type": "code",
   "execution_count": 30,
   "id": "8ad82d1c",
   "metadata": {},
   "outputs": [
    {
     "name": "stdout",
     "output_type": "stream",
     "text": [
      "0.905130375068389 R-squared score\n"
     ]
    }
   ],
   "source": [
    "test_yy = np.array(test_y)\n",
    "# print(test_yy)\n",
    "# print(pred_y)\n",
    "print(rf_model.score(test_X, test_y), 'R-squared score') #Check in the xls excel to see the R-squared reported in the paper"
   ]
  },
  {
   "cell_type": "code",
   "execution_count": 31,
   "id": "f7de77f1",
   "metadata": {},
   "outputs": [
    {
     "data": {
      "image/png": "[encoded data removed]",
      "text/plain": [
       "<Figure size 432x288 with 1 Axes>"
      ]
     },
     "metadata": {
      "needs_background": "light"
     },
     "output_type": "display_data"
    }
   ],
   "source": [
    "fig, ax = plt.subplots()\n",
    "ax.scatter(test_y, pred_y, color = 'red')\n",
    "ax.plot([y.min(), y.max()], [y.min(), y.max()], 'b--', lw=1)\n",
    "ax.set_title('Gelation Time as Concentration and Temperature Function')\n",
    "ax.set_xlabel('Measured [hours]')\n",
    "ax.set_ylabel('Predicted [hours]')\n",
    "plt.show()\n",
    "\n",
    "predRF = rf_model.predict(X)\n",
    "\n",
    "df = pd.DataFrame(predRF)\n",
    "df.to_csv('predRF.csv', index=False)"
   ]
  },
  {
   "cell_type": "code",
   "execution_count": 32,
   "id": "979b61a2",
   "metadata": {},
   "outputs": [
    {
     "name": "stdout",
     "output_type": "stream",
     "text": [
      "   Unnamed: 0      ln t   t (hours)  T (K)  Salinity    ln t.1\n",
      "0           0  4.785086  119.711603    358       1.0  4.785086\n",
      "1           1  4.868655  130.145782    358       1.5  4.868655\n",
      "2           2  4.968939  143.874131    358       2.0  4.968939\n",
      "3           3  5.102650  164.457193    358       2.5  5.102650\n",
      "4           4  5.186220  178.791439    358       3.0  5.186220\n"
     ]
    }
   ],
   "source": [
    "'SALINITY'\n",
    "#This if for Salinity model\n",
    "datapH = pd.read_excel('Polymer_data.xlsx', sheet_name=1)\n",
    "print(datapH.head())\n",
    "\n",
    "varSal= ['Salinity','T (K)']\n",
    "X = datapH[varSal]\n",
    "y = datapH['ln t']"
   ]
  },
  {
   "cell_type": "code",
   "execution_count": 33,
   "id": "0afab3b9",
   "metadata": {},
   "outputs": [],
   "source": [
    "train_X, test_X, train_y, test_y = train_test_split(X, y, random_state =0)"
   ]
  },
  {
   "cell_type": "code",
   "execution_count": 34,
   "id": "1fd6d966",
   "metadata": {},
   "outputs": [
    {
     "data": {
      "text/plain": [
       "RandomForestRegressor(random_state=1)"
      ]
     },
     "execution_count": 34,
     "metadata": {},
     "output_type": "execute_result"
    }
   ],
   "source": [
    "rf_model = RandomForestRegressor(random_state = 1)\n",
    "rf_model.fit(train_X, train_y)"
   ]
  },
  {
   "cell_type": "code",
   "execution_count": 35,
   "id": "d88eef8a",
   "metadata": {},
   "outputs": [
    {
     "name": "stdout",
     "output_type": "stream",
     "text": [
      "0.10603320307060171\n"
     ]
    }
   ],
   "source": [
    "pred_y = rf_model.predict(test_X)\n",
    "rf_model_mae = mean_absolute_error(test_y,pred_y)\n",
    "mean_y = np.mean(y)\n",
    "print(rf_model_mae)"
   ]
  },
  {
   "cell_type": "code",
   "execution_count": 36,
   "id": "ba893b15",
   "metadata": {},
   "outputs": [
    {
     "name": "stdout",
     "output_type": "stream",
     "text": [
      "0.9820212726705077 R-squared score\n"
     ]
    }
   ],
   "source": [
    "test_yy = np.array(test_y)\n",
    "print(rf_model.score(test_X, test_y), 'R-squared score') #Check in the xls excel to see the R-squared reported in the paper"
   ]
  },
  {
   "cell_type": "code",
   "execution_count": 37,
   "id": "caa07dd3",
   "metadata": {},
   "outputs": [
    {
     "data": {
      "image/png": "[encoded data removed]",
      "text/plain": [
       "<Figure size 432x288 with 1 Axes>"
      ]
     },
     "metadata": {
      "needs_background": "light"
     },
     "output_type": "display_data"
    }
   ],
   "source": [
    "fig, ax = plt.subplots()\n",
    "ax.scatter(test_y, pred_y, color = 'red')\n",
    "ax.plot([y.min(), y.max()], [y.min(), y.max()], 'b--', lw=1)\n",
    "ax.set_title('Gelation Time as Salinity and Temperature Function')\n",
    "ax.set_xlabel('Measured [hours]')\n",
    "ax.set_ylabel('Predicted [hours]')\n",
    "plt.show()\n",
    "\n",
    "predRF_Sal = rf_model.predict(X)\n",
    "\n",
    "df = pd.DataFrame(predRF_Sal)\n",
    "df.to_csv('predRF_Sal.csv', index=False)"
   ]
  }
 ],
 "metadata": {
  "kernelspec": {
   "display_name": "Python 3 (ipykernel)",
   "language": "python",
   "name": "python3"
  },
  "language_info": {
   "codemirror_mode": {
    "name": "ipython",
    "version": 3
   },
   "file_extension": ".py",
   "mimetype": "text/x-python",
   "name": "python",
   "nbconvert_exporter": "python",
   "pygments_lexer": "ipython3",
   "version": "3.7.13"
  }
 },
 "nbformat": 4,
 "nbformat_minor": 5
}
